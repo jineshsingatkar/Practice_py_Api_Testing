{
 "cells": [
  {
   "cell_type": "code",
   "execution_count": null,
   "id": "21924f1e",
   "metadata": {},
   "outputs": [],
   "source": [
    "#Int Data-Type Whole numbers (positive, negative, or zero)\n",
    "age = 26\n",
    "temperature = -5\n"
   ]
  },
  {
   "cell_type": "code",
   "execution_count": 7,
   "id": "3131ad52",
   "metadata": {},
   "outputs": [
    {
     "name": "stdout",
     "output_type": "stream",
     "text": [
      "55.55 3.14\n"
     ]
    }
   ],
   "source": [
    "#Float Numbers with a decimal point\n",
    "\n",
    "price = 55.55\n",
    "pi = 3.14\n",
    "print(price, pi)"
   ]
  },
  {
   "cell_type": "code",
   "execution_count": 6,
   "id": "9fc64ec9",
   "metadata": {},
   "outputs": [
    {
     "name": "stdout",
     "output_type": "stream",
     "text": [
      "(3+5j)\n"
     ]
    }
   ],
   "source": [
    "#complex → Numbers with a real and imaginary part\n",
    "\n",
    "z = 3 + 5j\n",
    "print(z)"
   ]
  },
  {
   "cell_type": "code",
   "execution_count": 5,
   "id": "5d8a4f25",
   "metadata": {},
   "outputs": [
    {
     "name": "stdout",
     "output_type": "stream",
     "text": [
      "Python says: Hello, World!\n"
     ]
    }
   ],
   "source": [
    "#str → Strings (sequence of characters)\n",
    "name = \"Python\"\n",
    "greeting = 'Hello, World!'\n",
    "\n",
    "print(name + \" says: \" + greeting)"
   ]
  },
  {
   "cell_type": "code",
   "execution_count": 10,
   "id": "197caf8f",
   "metadata": {},
   "outputs": [],
   "source": [
    "##Sequence Types\n",
    "#These store collections of items in order"
   ]
  },
  {
   "cell_type": "code",
   "execution_count": 9,
   "id": "66b90426",
   "metadata": {},
   "outputs": [
    {
     "name": "stdout",
     "output_type": "stream",
     "text": [
      "['apple', 'banana', 'cherry']\n"
     ]
    }
   ],
   "source": [
    "#list → Mutable (can be changed)\n",
    "fruits = [\"apple\", \"banana\", \"cherry\"]\n",
    "print(fruits)"
   ]
  },
  {
   "cell_type": "code",
   "execution_count": 11,
   "id": "fa99a913",
   "metadata": {},
   "outputs": [
    {
     "name": "stdout",
     "output_type": "stream",
     "text": [
      "(10.0, 20.0)\n"
     ]
    }
   ],
   "source": [
    "#tuple → Immutable (cannot be changed)\n",
    "coordinates = (10.0, 20.0)\n",
    "print(coordinates)"
   ]
  },
  {
   "cell_type": "code",
   "execution_count": 12,
   "id": "68f81d2b",
   "metadata": {},
   "outputs": [
    {
     "name": "stdout",
     "output_type": "stream",
     "text": [
      "[1, 2, 3, 4, 5]\n"
     ]
    }
   ],
   "source": [
    "#range → Sequence of numbers\n",
    "numbers = range(1, 6)  # 1 to 5\n",
    "print(list(numbers))"
   ]
  },
  {
   "cell_type": "code",
   "execution_count": 13,
   "id": "b7494177",
   "metadata": {},
   "outputs": [],
   "source": [
    "##Mapping Type"
   ]
  },
  {
   "cell_type": "code",
   "execution_count": 15,
   "id": "990a9b43",
   "metadata": {},
   "outputs": [
    {
     "name": "stdout",
     "output_type": "stream",
     "text": [
      "{'name': 'John', 'age': 20}\n"
     ]
    }
   ],
   "source": [
    "#dict → Key-value pairs\n",
    "student = {\"name\": \"John\", \"age\": 20}\n",
    "print(student)"
   ]
  },
  {
   "cell_type": "code",
   "execution_count": 16,
   "id": "c05628e8",
   "metadata": {},
   "outputs": [],
   "source": [
    "##Set Types"
   ]
  },
  {
   "cell_type": "code",
   "execution_count": 17,
   "id": "fc48a50c",
   "metadata": {},
   "outputs": [
    {
     "name": "stdout",
     "output_type": "stream",
     "text": [
      "{'green', 'red', 'blue'}\n"
     ]
    }
   ],
   "source": [
    "#set → Unordered collection of unique items\n",
    "colors = {\"red\", \"green\", \"blue\"}\n",
    "print(colors)"
   ]
  },
  {
   "cell_type": "code",
   "execution_count": 18,
   "id": "1700b39d",
   "metadata": {},
   "outputs": [
    {
     "name": "stdout",
     "output_type": "stream",
     "text": [
      "frozenset({'green', 'red', 'blue'})\n"
     ]
    }
   ],
   "source": [
    "#frozenset → Immutable set\n",
    "frozen_colors = frozenset({\"red\", \"green\", \"blue\"})\n",
    "print(frozen_colors)"
   ]
  },
  {
   "cell_type": "code",
   "execution_count": 19,
   "id": "a7446d8f",
   "metadata": {},
   "outputs": [
    {
     "name": "stdout",
     "output_type": "stream",
     "text": [
      "True False\n"
     ]
    }
   ],
   "source": [
    "#Boolean Type\n",
    "#bool → True or False values\n",
    "is_active = True\n",
    "is_admin = False\n",
    "print(is_active, is_admin)"
   ]
  },
  {
   "cell_type": "code",
   "execution_count": null,
   "id": "2dc3a437",
   "metadata": {},
   "outputs": [],
   "source": [
    "#None Type\n",
    "#NoneType → Represents “nothing” or “no value”\n",
    "result = None"
   ]
  }
 ],
 "metadata": {
  "kernelspec": {
   "display_name": "Python 3",
   "language": "python",
   "name": "python3"
  },
  "language_info": {
   "codemirror_mode": {
    "name": "ipython",
    "version": 3
   },
   "file_extension": ".py",
   "mimetype": "text/x-python",
   "name": "python",
   "nbconvert_exporter": "python",
   "pygments_lexer": "ipython3",
   "version": "3.13.7"
  }
 },
 "nbformat": 4,
 "nbformat_minor": 5
}
