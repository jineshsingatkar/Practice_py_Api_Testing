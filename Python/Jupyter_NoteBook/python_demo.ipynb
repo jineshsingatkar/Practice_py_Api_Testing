{
 "cells": [
  {
   "cell_type": "code",
   "execution_count": 2,
   "id": "192e259f",
   "metadata": {},
   "outputs": [
    {
     "name": "stdout",
     "output_type": "stream",
     "text": [
      "hello\n",
      "Python by_Jinesh Jain\n"
     ]
    }
   ],
   "source": [
    "print(\"hello\")\n",
    "\n",
    "Instructor = \"Jinesh Jain\"\n",
    "print(\"Python by\", Instructor, sep= \"_\")"
   ]
  },
  {
   "cell_type": "code",
   "execution_count": 3,
   "id": "e0a544b5",
   "metadata": {},
   "outputs": [
    {
     "name": "stdout",
     "output_type": "stream",
     "text": [
      "2.0\n",
      "7\n"
     ]
    }
   ],
   "source": [
    "2+5\n",
    "print(10/5)\n",
    "\n",
    "a = 2 \n",
    "b = 5\n",
    "\n",
    "print(a+b)"
   ]
  },
  {
   "cell_type": "code",
   "execution_count": null,
   "id": "cd65f901",
   "metadata": {},
   "outputs": [],
   "source": []
  }
 ],
 "metadata": {
  "kernelspec": {
   "display_name": "Python 3",
   "language": "python",
   "name": "python3"
  },
  "language_info": {
   "codemirror_mode": {
    "name": "ipython",
    "version": 3
   },
   "file_extension": ".py",
   "mimetype": "text/x-python",
   "name": "python",
   "nbconvert_exporter": "python",
   "pygments_lexer": "ipython3",
   "version": "3.13.7"
  }
 },
 "nbformat": 4,
 "nbformat_minor": 5
}
